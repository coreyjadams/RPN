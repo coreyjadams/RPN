{
 "cells": [
  {
   "cell_type": "markdown",
   "metadata": {},
   "source": [
    "# Region Proposal Networks with MNIST"
   ]
  },
  {
   "cell_type": "markdown",
   "metadata": {},
   "source": [
    "Region proposal networks are an important base of all object detection networks.  Here we'll explore one based on the mnist data set, though we'll have to create our own images on the fly from the data set.  It's not ideal in terms of speed, but that isn't the most important part of the tutorial."
   ]
  },
  {
   "cell_type": "markdown",
   "metadata": {},
   "source": [
    "## MNIST data set"
   ]
  },
  {
   "cell_type": "markdown",
   "metadata": {},
   "source": [
    "The MNIST data set is famous, see other blog posts.  Here we will build a custom wrapper to insert 1 to 3 digits into a 64x64 sized image."
   ]
  },
  {
   "cell_type": "code",
   "execution_count": 1,
   "metadata": {},
   "outputs": [
    {
     "name": "stdout",
     "output_type": "stream",
     "text": [
      "env: CUDA_DEVICE_ORDER=PCI_BUS_ID\n",
      "env: CUDA_VISIBLE_DEVICES=2\n"
     ]
    }
   ],
   "source": [
    "%env CUDA_DEVICE_ORDER=PCI_BUS_ID\n",
    "%env CUDA_VISIBLE_DEVICES=2\n",
    "import tensorflow as tf\n",
    "import numpy\n",
    "from tensorflow.examples.tutorials.mnist import input_data"
   ]
  },
  {
   "cell_type": "markdown",
   "metadata": {},
   "source": [
    "With tensorflow, you can specify which device to use.  The next cell will tell you what's available, and you can select from there.  By default, I select \"/gpu:0\" but you can change this below"
   ]
  },
  {
   "cell_type": "code",
   "execution_count": 2,
   "metadata": {},
   "outputs": [
    {
     "name": "stdout",
     "output_type": "stream",
     "text": [
      "[name: \"/device:CPU:0\"\n",
      "device_type: \"CPU\"\n",
      "memory_limit: 268435456\n",
      "locality {\n",
      "}\n",
      "incarnation: 8740546744093419741\n",
      "]\n"
     ]
    }
   ],
   "source": [
    "from tensorflow.python.client import device_lib\n",
    "print device_lib.list_local_devices()\n",
    "default_device = \"/cpu:0\""
   ]
  },
  {
   "cell_type": "markdown",
   "metadata": {
    "collapsed": true
   },
   "source": [
    "Here is the helper class for embedding.  Note how it keeps track of the regions of each digit and their labels, as well."
   ]
  },
  {
   "cell_type": "code",
   "execution_count": 3,
   "metadata": {},
   "outputs": [],
   "source": [
    "class mnist_helper(object):\n",
    "    \"\"\"\n",
    "    Repackage several mnist digits into a larger image, and also keep track of their regions\n",
    "    \"\"\"\n",
    "    def __init__(self):\n",
    "        super(mnist_helper, self).__init__()\n",
    "        self.mnist = input_data.read_data_sets('MNIST_data', one_hot=False)\n",
    "\n",
    "    def next_multi_image_train_classification(self, batch_size=4, max_images=4):\n",
    "        '''\n",
    "        Build a multi digit image with up to 3 images randomly placed in a 64x64 grid:\n",
    "        \n",
    "        This function doesn't find image regions\n",
    "        '''\n",
    "        output = numpy.zeros((batch_size, 64, 64))\n",
    "        return_labels = numpy.zeros((batch_size, 10))\n",
    "        \n",
    "        for i in xrange(batch_size):\n",
    "            n_images = numpy.random.randint(max_images-1) + 1\n",
    "            batch, labels = self.mnist.train.next_batch(n_images)\n",
    "            for image, label in zip(batch, labels):\n",
    "                x_rand = numpy.random.randint(34)\n",
    "                y_rand = numpy.random.randint(34)\n",
    "                output[i,x_rand:x_rand+28, y_rand:y_rand+28] += image.reshape((28,28))\n",
    "                return_labels[i,label] = 1\n",
    "        return output, return_labels\n",
    "            \n",
    "    \n",
    "    \n",
    "    def next_multi_image_train(self, batch_size=4, return_labels=True, return_rois=False):\n",
    "        # Build mnist images, each embedded into a 64x64 space\n",
    "        # instead of 28x28\n",
    "        batch, labels = self.mnist.train.next_batch(batch_size)\n",
    "        # build an output data container:\n",
    "        output = numpy.zeros((batch_size, 64, 64))\n",
    "        return_labels = numpy.zeros((batch_size,10))\n",
    "        # Copy images to output:\n",
    "        n_images = numpy.random.randint(3)\n",
    "        for i in xrange(batch_size):\n",
    "            for j in xrange(n_images):\n",
    "                x_start = numpy.random.randint(32)\n",
    "                y_start = numpy.random.randint(32)\n",
    "                output[i,x_start:x_start+28, y_start:y_start+28] += batch[image].reshape((28,28))\n",
    "                labels[i][labels[i]] = 1\n",
    "        if return_labels:\n",
    "            return numpy.reshape(output, [batch_size, 32, 32, 1]), labels\n",
    "        else:            \n",
    "            return numpy.reshape(output, [batch_size, 32, 32, 1])\n",
    "        \n",
    "        \n"
   ]
  },
  {
   "cell_type": "code",
   "execution_count": 4,
   "metadata": {},
   "outputs": [
    {
     "name": "stdout",
     "output_type": "stream",
     "text": [
      "Extracting MNIST_data/train-images-idx3-ubyte.gz\n",
      "Extracting MNIST_data/train-labels-idx1-ubyte.gz\n",
      "Extracting MNIST_data/t10k-images-idx3-ubyte.gz\n",
      "Extracting MNIST_data/t10k-labels-idx1-ubyte.gz\n"
     ]
    }
   ],
   "source": [
    "data_fetcher = mnist_helper()\n",
    "mnist_images, mnist_labels = data_fetcher.next_multi_image_train_classification(batch_size=5)"
   ]
  },
  {
   "cell_type": "markdown",
   "metadata": {},
   "source": [
    "Here, we've loaded the mnist data from the tensorflow helper class, and asked for the next batch of images and labels.  Let's view those to see what the data looks like before delving into the network:"
   ]
  },
  {
   "cell_type": "code",
   "execution_count": 5,
   "metadata": {},
   "outputs": [
    {
     "name": "stdout",
     "output_type": "stream",
     "text": [
      "mnist_images.shape: (5, 64, 64)\n",
      "mnist_labels.shape: (5, 10)\n"
     ]
    }
   ],
   "source": [
    "print \"mnist_images.shape: {}\".format(mnist_images.shape)\n",
    "print \"mnist_labels.shape: {}\".format(mnist_labels.shape)"
   ]
  },
  {
   "cell_type": "markdown",
   "metadata": {},
   "source": [
    "As expected, variables are arrays with the outermost dimension equal to 5.  The images, though, comes unpacked as a 1D array per image instead of a 2D array.  We can reshape this to what we're more familar with, since we know mnist images are 28x28:"
   ]
  },
  {
   "cell_type": "code",
   "execution_count": 6,
   "metadata": {},
   "outputs": [
    {
     "name": "stdout",
     "output_type": "stream",
     "text": [
      "mnist_images.shape: (5, 64, 64)\n"
     ]
    }
   ],
   "source": [
    "print \"mnist_images.shape: {}\".format(mnist_images.shape)\n"
   ]
  },
  {
   "cell_type": "markdown",
   "metadata": {},
   "source": [
    "Matplotlib gives a good interface for viewing these images in a notebook (or even in general, in python):"
   ]
  },
  {
   "cell_type": "code",
   "execution_count": 7,
   "metadata": {},
   "outputs": [],
   "source": [
    "from matplotlib import pyplot as plt\n",
    "%matplotlib inline"
   ]
  },
  {
   "cell_type": "code",
   "execution_count": 8,
   "metadata": {},
   "outputs": [
    {
     "name": "stdout",
     "output_type": "stream",
     "text": [
      "This image is labeled as [ 0.  0.  0.  0.  1.  0.  0.  0.  1.  0.]\n"
     ]
    },
    {
     "data": {
      "image/png": "[encoded data removed]",
      "text/plain": [
       "<matplotlib.figure.Figure at 0x7f532951c6d0>"
      ]
     },
     "metadata": {},
     "output_type": "display_data"
    },
    {
     "name": "stdout",
     "output_type": "stream",
     "text": [
      "This image is labeled as [ 0.  0.  0.  0.  0.  0.  0.  0.  0.  1.]\n"
     ]
    },
    {
     "data": {
      "image/png": "[encoded data removed]",
      "text/plain": [
       "<matplotlib.figure.Figure at 0x7f5329424f90>"
      ]
     },
     "metadata": {},
     "output_type": "display_data"
    },
    {
     "name": "stdout",
     "output_type": "stream",
     "text": [
      "This image is labeled as [ 1.  0.  1.  1.  0.  0.  0.  0.  0.  0.]\n"
     ]
    },
    {
     "data": {
      "image/png": "[encoded data removed]",
      "text/plain": [
       "<matplotlib.figure.Figure at 0x7f53282fd050>"
      ]
     },
     "metadata": {},
     "output_type": "display_data"
    },
    {
     "name": "stdout",
     "output_type": "stream",
     "text": [
      "This image is labeled as [ 1.  0.  0.  0.  0.  0.  0.  1.  0.  0.]\n"
     ]
    },
    {
     "data": {
      "image/png": "[encoded data removed]",
      "text/plain": [
       "<matplotlib.figure.Figure at 0x7f53282442d0>"
      ]
     },
     "metadata": {},
     "output_type": "display_data"
    },
    {
     "name": "stdout",
     "output_type": "stream",
     "text": [
      "This image is labeled as [ 0.  0.  0.  0.  0.  1.  0.  1.  0.  0.]\n"
     ]
    },
    {
     "data": {
      "image/png": "[encoded data removed]",
      "text/plain": [
       "<matplotlib.figure.Figure at 0x7f53281ee110>"
      ]
     },
     "metadata": {},
     "output_type": "display_data"
    }
   ],
   "source": [
    "for index in xrange(5):\n",
    "    fig = plt.figure(figsize=(10,10))\n",
    "    plt.imshow(mnist_images[index,:,:], cmap=\"Greys\", interpolation=\"none\")\n",
    "    print \"This image is labeled as {}\".format(mnist_labels[index])\n",
    "    plt.show()"
   ]
  },
  {
   "cell_type": "markdown",
   "metadata": {},
   "source": [
    "These show numbers distributed around the image, so that's good."
   ]
  },
  {
   "cell_type": "markdown",
   "metadata": {},
   "source": [
    "### Building a classification network"
   ]
  },
  {
   "cell_type": "markdown",
   "metadata": {},
   "source": [
    "We'll start to put together a network classification of images, which is a useful way to pretrain the RPN"
   ]
  },
  {
   "cell_type": "code",
   "execution_count": 9,
   "metadata": {},
   "outputs": [],
   "source": [
    "BASE_LEARNING_RATE = 0.00001\n",
    "BATCH_SIZE=36\n",
    "RESTORE=False\n",
    "LOGDIR=\"./rpn_mnist_classification/\"\n",
    "TRAINING=True"
   ]
  },
  {
   "cell_type": "markdown",
   "metadata": {},
   "source": [
    "Additionally, let's make sure we have the same graph by defining it:"
   ]
  },
  {
   "cell_type": "code",
   "execution_count": 10,
   "metadata": {},
   "outputs": [],
   "source": [
    "tf.reset_default_graph()\n",
    "g = tf.Graph()"
   ]
  },
  {
   "cell_type": "markdown",
   "metadata": {},
   "source": [
    "Set up the placeholders for the input variables.  We'll need to input both images and labels"
   ]
  },
  {
   "cell_type": "code",
   "execution_count": 11,
   "metadata": {},
   "outputs": [],
   "source": [
    "with tf.device(default_device):\n",
    "    with g.as_default():\n",
    "\n",
    "        # Placeholder for the real input images:\n",
    "        images_input  = tf.placeholder(tf.float32, (None, 64, 64,), name=\"real_images_input\")\n",
    "        # Placeholder for the real labels:\n",
    "        labels  = tf.placeholder(tf.float32, [None, 10], name=\"real_labels\")\n",
    "       \n",
    "        images = tf.reshape(images_input, [-1, 64, 64, 1])\n"
   ]
  },
  {
   "cell_type": "markdown",
   "metadata": {},
   "source": [
    "Now we can define the networks.  In this case, there are 3: a transformer, a discriminator, and a classifier.  We will do the transformer first."
   ]
  },
  {
   "cell_type": "markdown",
   "metadata": {},
   "source": [
    "### Image Classifier:"
   ]
  },
  {
   "cell_type": "markdown",
   "metadata": {},
   "source": [
    "We will build a simple classifier to decide what digits are present in the image, using a residual network.  Here are some useful functions to build the network up:"
   ]
  },
  {
   "cell_type": "code",
   "execution_count": 12,
   "metadata": {},
   "outputs": [],
   "source": [
    "def residual_block(input_tensor,\n",
    "                   is_training,\n",
    "                   kernel=[3, 3],\n",
    "                   stride=[1, 1],\n",
    "                   name=\"\",\n",
    "                   reuse=False):\n",
    "    \"\"\"\n",
    "    @brief      Create a residual block and apply it to the input tensor\n",
    "\n",
    "    @param      input_tensor  The input tensor\n",
    "    @param      kernel        Size of convolutional kernel to apply\n",
    "    @param      n_filters     Number of output filters\n",
    "\n",
    "    @return     { Tensor with the residual network applied }\n",
    "    \"\"\"\n",
    "\n",
    "    # Residual block has the identity path summed with the output of\n",
    "    # BN/Relu/Conv2d applied twice\n",
    "\n",
    "    # Assuming channels last here:\n",
    "    n_filters = input_tensor.shape[-1]\n",
    "\n",
    "    with tf.variable_scope(name + \"_0\"):\n",
    "        # Batch normalization is applied first:\n",
    "        x = tf.layers.batch_normalization(input_tensor,\n",
    "                                          axis=-1,\n",
    "                                          training=is_training,\n",
    "                                          trainable=True,\n",
    "                                          name=\"BatchNorm\",\n",
    "                                          reuse=reuse)\n",
    "\n",
    "\n",
    "        # Conv2d:\n",
    "        x = tf.layers.conv2d(x, n_filters,\n",
    "                             kernel_size=kernel,\n",
    "                             strides=stride,\n",
    "                             padding='same',\n",
    "                             trainable=is_training,\n",
    "                             name=\"Conv2D\",\n",
    "                             reuse=reuse)\n",
    "        # ReLU:\n",
    "        x = tf.nn.relu(x)\n",
    "        \n",
    "    # Apply everything a second time:\n",
    "    with tf.variable_scope(name + \"_1\"):\n",
    "\n",
    "        # Batch normalization is applied first:\n",
    "        x = tf.layers.batch_normalization(x,\n",
    "                                          axis=-1,\n",
    "                                          training=is_training,\n",
    "                                          trainable=True,\n",
    "                                          name=\"BatchNorm\",\n",
    "                                          reuse=reuse)\n",
    "\n",
    "        # Conv2d:\n",
    "        x = tf.layers.conv2d(x,\n",
    "                             n_filters,\n",
    "                             kernel_size=kernel,\n",
    "                             strides=stride,\n",
    "                             padding='same',\n",
    "                             trainable=is_training,\n",
    "                             name=\"Conv2D\",\n",
    "                             reuse=reuse)\n",
    "\n",
    "    # Sum the input and the output:\n",
    "    with tf.variable_scope(name+\"_addition\"):\n",
    "        x = tf.add(x, input_tensor, name=\"Add\")\n",
    "        x = tf.nn.relu(x)\n",
    "    return x\n",
    "\n"
   ]
  },
  {
   "cell_type": "code",
   "execution_count": 13,
   "metadata": {},
   "outputs": [],
   "source": [
    "def downsample_block(input_tensor,\n",
    "                     is_training,\n",
    "                     kernel=[3, 3],\n",
    "                     name=\"\",\n",
    "                     increase_filters=True,\n",
    "                     reuse = False):\n",
    "    \"\"\"\n",
    "    @brief      Create a residual block and apply it to the input tensor\n",
    "\n",
    "    @param      input_tensor  The input tensor\n",
    "    @param      kernel        Size of convolutional kernel to apply\n",
    "    @param      n_filters     Number of output filters\n",
    "\n",
    "    @return     { Tensor with the residual network applied }\n",
    "    \"\"\"\n",
    "\n",
    "    # Residual block has the identity path summed with the output of\n",
    "    # BN/Relu/Conv2d applied twice\n",
    "\n",
    "    # Assuming channels last here:\n",
    "    if not increase_filters:\n",
    "        n_filters = input_tensor.get_shape().as_list()[-1]\n",
    "    else:\n",
    "        n_filters = 2*input_tensor.get_shape().as_list()[-1]\n",
    "\n",
    "    with tf.variable_scope(name + \"_0\"):\n",
    "        # Batch normalization is applied first:\n",
    "        x = tf.layers.batch_normalization(input_tensor,\n",
    "                                          training=is_training,\n",
    "                                          trainable=True,\n",
    "                                          name=\"BatchNorm\",\n",
    "                                          reuse=reuse)\n",
    "\n",
    "\n",
    "        # Conv2d:\n",
    "        x = tf.layers.conv2d(x, n_filters,\n",
    "                             kernel_size=kernel,\n",
    "                             strides=[2, 2],\n",
    "                             padding='same',\n",
    "                             trainable=is_training,\n",
    "                             name=\"Conv2D\",\n",
    "                             reuse=reuse)\n",
    "\n",
    "        # ReLU:\n",
    "        x = tf.nn.relu(x)\n",
    "\n",
    "    return x"
   ]
  },
  {
   "cell_type": "code",
   "execution_count": 14,
   "metadata": {},
   "outputs": [],
   "source": [
    "# def upsample_block(input_tensor,\n",
    "#                    is_training,\n",
    "#                    kernel=[3, 3],\n",
    "#                    alpha = 0.0,\n",
    "#                    name=\"\"):\n",
    "#     \"\"\"\n",
    "#     @brief      Create a residual block and apply it to the input tensor\n",
    "\n",
    "#     @param      input_tensor  The input tensor\n",
    "#     @param      kernel        Size of convolutional kernel to apply\n",
    "#     @param      n_filters     Number of output filters\n",
    "\n",
    "#     @return     { Tensor with the residual network applied }\n",
    "#     \"\"\"\n",
    "\n",
    "#     # Residual block has the identity path summed with the output of\n",
    "#     # BN/Relu/Conv2d applied twice\n",
    "\n",
    "#     # Assuming channels last here:\n",
    "#     n_filters = int(0.5*input_tensor.get_shape().as_list()[-1])\n",
    "#     # Prevent attempts to produce no filters at the next stage up:\n",
    "#     if n_filters == 0:\n",
    "#         n_filters = 1\n",
    "\n",
    "#     with tf.variable_scope(name + \"_0\"):\n",
    "#         # Batch normalization is applied first:\n",
    "#         x = tf.layers.batch_normalization(input_tensor,\n",
    "#                                           training=is_training,\n",
    "#                                           trainable=True,\n",
    "#                                           name=\"BatchNorm\",\n",
    "#                                           reuse=None)\n",
    "\n",
    "#         # Conv2d:\n",
    "#         x = tf.layers.conv2d_transpose(x, n_filters,\n",
    "#                              kernel_size=kernel,\n",
    "#                              strides=[2, 2],\n",
    "#                              padding='same',\n",
    "#                              trainable=True,\n",
    "#                              name=\"Conv2DTrans\",\n",
    "#                              reuse=None)\n",
    "#         # ReLU:\n",
    "#         x = tf.nn.relu(x)\n",
    "\n",
    "#     return x"
   ]
  },
  {
   "cell_type": "code",
   "execution_count": 15,
   "metadata": {},
   "outputs": [],
   "source": [
    "def build_classifier(input_tensor, n_initial_filters=32, is_training=True):\n",
    "    # Again, scoping is essential here:\n",
    "    with tf.variable_scope(\"mnist_classifier\"):\n",
    "       \n",
    "\n",
    "        # To make this code cleaner, the upsampling, downsampling, and residual block steps have all be \n",
    "        # written as functions above.\n",
    "        \n",
    "        # Map the input tensor with an intial convolution:\n",
    "        x = tf.layers.batch_normalization(input_tensor,\n",
    "                                          training=is_training,\n",
    "                                          trainable=True,\n",
    "                                          name=\"BatchNormInitial\",\n",
    "                                          reuse=None)\n",
    "        \n",
    "        x = tf.layers.conv2d(x, n_initial_filters, \n",
    "                            kernel_size=[5,5],\n",
    "                            strides=[1,1],\n",
    "                            padding=\"same\",\n",
    "                            trainable=True,\n",
    "                            name=\"InitialConv2D\")\n",
    "        \n",
    "        # Apply a series of downsampling blocks to take the spatial dimensions down as follows:\n",
    "        # (B, 32, 32, n_initial_filters)\n",
    "        # (B, 16, 16, 2*n_initial_filters)\n",
    "        # (B, 8, 8, 4*n_initial_filters)\n",
    "        # (B, 4, 4, 8*n_initial_filters)\n",
    "        # After each residual block, store the output to connect to the upsampling block\n",
    "        \n",
    "        for i in [32, 16, 8, 4]:\n",
    "            x = residual_block(x,\n",
    "                               is_training,\n",
    "                               name=\"residual_block_down_{}\".format(i))\n",
    "            # Downsample:\n",
    "            x = downsample_block(x, is_training,\n",
    "                                name=\"downsample_block_{}\".format(i))\n",
    "\n",
    "            \n",
    "        # Now at the bottom of the network, apply a residual block:\n",
    "        x = residual_block(x, is_training,\n",
    "                           name=\"residual_block_bottom\")\n",
    "            \n",
    "        # Finally, we apply a bottleneck to map the tensors to a (B, 10) shaped output:\n",
    "        x = tf.layers.conv2d(x, 10,\n",
    "                             kernel_size=[1,1],\n",
    "                             strides=[1,1],\n",
    "                             name =\"FinalBottleneck\")\n",
    "        \n",
    "        # Global average pooling and reshape to final output size:\n",
    "        # For global average pooling, need to get the shape of the input:\n",
    "        shape = (x.shape[1], x.shape[2])\n",
    "\n",
    "        x = tf.nn.pool(x,\n",
    "                       window_shape=shape,\n",
    "                       pooling_type=\"AVG\",\n",
    "                       padding=\"VALID\",\n",
    "                       name=\"GlobalAveragePool\")\n",
    "\n",
    "        # Reshape to remove empty dimensions:\n",
    "        x = tf.reshape(x, [tf.shape(x)[0], 10],\n",
    "                       name=\"global_pooling_reshape\")\n",
    "\n",
    "        # Final activation is sigmoid\n",
    "        # x = tf.nn.sigmoid(x)\n",
    "        # We don't apply it here, instead it's done in the sigmoid_cross_entropy_# For global average pooling, need to get the shape of the input:\n",
    "        return x"
   ]
  },
  {
   "cell_type": "code",
   "execution_count": 16,
   "metadata": {},
   "outputs": [],
   "source": [
    "with tf.device(default_device):\n",
    "    with g.as_default():\n",
    "        logits = build_classifier(images, is_training=TRAINING)\n"
   ]
  },
  {
   "cell_type": "markdown",
   "metadata": {},
   "source": [
    "### Classification Loss functions"
   ]
  },
  {
   "cell_type": "markdown",
   "metadata": {},
   "source": [
    "We can now define our loss functions.  Note that we have to define the loss function for the real and transformed data seperately:"
   ]
  },
  {
   "cell_type": "code",
   "execution_count": 17,
   "metadata": {},
   "outputs": [],
   "source": [
    "with tf.device(default_device):\n",
    "    # Build the loss functions:\n",
    "    with g.as_default():\n",
    "        with tf.name_scope(\"cross_entropy\") as scope:\n",
    "\n",
    "            #########################################################################\n",
    "            # Build the loss functions for the discriminator first:\n",
    "            #########################################################################\n",
    "            \n",
    "            # Discriminator loss on real images (classify as 1):\n",
    "            class_loss = tf.reduce_mean(\n",
    "                tf.nn.sigmoid_cross_entropy_with_logits(logits=logits,\n",
    "                                                        labels = labels))\n",
    "                \n",
    "            \n",
    "            # This code is useful if you'll use tensorboard to monitor training:\n",
    "            tf.summary.scalar(\"Classifier_Loss\", class_loss)\n",
    "            "
   ]
  },
  {
   "cell_type": "markdown",
   "metadata": {},
   "source": [
    "It's also useful to compute accuracy, just to see how the training is going:"
   ]
  },
  {
   "cell_type": "code",
   "execution_count": 18,
   "metadata": {},
   "outputs": [],
   "source": [
    "with tf.device(default_device):\n",
    "    with g.as_default():\n",
    "        with tf.name_scope(\"accuracy\") as scope:\n",
    "            # Compute the discriminator accuracy on real data, fake data, and total:\n",
    "            accuracy   = tf.reduce_mean(tf.cast(tf.equal(tf.round(logits), labels), tf.float32))\n",
    "\n",
    "            # Again, useful for tensorboard:\n",
    "            tf.summary.scalar(\"Label_Accuracy\", accuracy)\n"
   ]
  },
  {
   "cell_type": "markdown",
   "metadata": {},
   "source": [
    "### Optimizers"
   ]
  },
  {
   "cell_type": "markdown",
   "metadata": {},
   "source": [
    "A simple optimizer will work for the classification task"
   ]
  },
  {
   "cell_type": "code",
   "execution_count": 19,
   "metadata": {},
   "outputs": [],
   "source": [
    "with tf.device(default_device):\n",
    "    with g.as_default():\n",
    "        with tf.name_scope(\"training\") as scope:\n",
    "            # Global steps are useful for restoring training:\n",
    "            global_step = tf.Variable(0, dtype=tf.int32, trainable=False, name='global_step')\n",
    "\n",
    "            optimizer   = tf.train.AdamOptimizer(BASE_LEARNING_RATE, 0.5).minimize(\n",
    "                class_loss, global_step=global_step)"
   ]
  },
  {
   "cell_type": "markdown",
   "metadata": {},
   "source": [
    "## Training the networks"
   ]
  },
  {
   "cell_type": "markdown",
   "metadata": {},
   "source": [
    "There are lots of philosophys on training GANs.  Here, we'll do something simple and just alternate updates. To save the network and keep track of training variables, set up a summary writer:"
   ]
  },
  {
   "cell_type": "code",
   "execution_count": null,
   "metadata": {},
   "outputs": [],
   "source": [
    "with tf.device(default_device):\n",
    "    with g.as_default():\n",
    "        merged_summary = tf.summary.merge_all()\n",
    "\n",
    "        # Set up a saver:\n",
    "        train_writer = tf.summary.FileWriter(LOGDIR)"
   ]
  },
  {
   "cell_type": "markdown",
   "metadata": {},
   "source": [
    "Set up a session for training using an interactive session:"
   ]
  },
  {
   "cell_type": "code",
   "execution_count": null,
   "metadata": {},
   "outputs": [
    {
     "name": "stdout",
     "output_type": "stream",
     "text": [
      "Extracting MNIST_data/train-images-idx3-ubyte.gz\n",
      "Extracting MNIST_data/train-labels-idx1-ubyte.gz\n",
      "Extracting MNIST_data/t10k-images-idx3-ubyte.gz\n",
      "Extracting MNIST_data/t10k-labels-idx1-ubyte.gz\n",
      "Begin training ...\n",
      "Training in progress @ global_step 0,\n"
     ]
    }
   ],
   "source": [
    "if TRAINING:\n",
    "    with tf.device(default_device):\n",
    "        with g.as_default():\n",
    "            sess = tf.InteractiveSession()\n",
    "            if not RESTORE:\n",
    "                sess.run(tf.global_variables_initializer())\n",
    "                train_writer.add_graph(sess.graph)\n",
    "                saver = tf.train.Saver()\n",
    "            else: \n",
    "                latest_checkpoint = tf.train.latest_checkpoint(LOGDIR+\"/checkpoints/\")\n",
    "                print \"Restoring model from {}\".format(latest_checkpoint)\n",
    "                saver = tf.train.Saver()\n",
    "                saver.restore(sess, latest_checkpoint)\n",
    "\n",
    "\n",
    "            data_fetcher = mnist_helper()\n",
    "\n",
    "            print \"Begin training ...\"\n",
    "            # Run training loop\n",
    "            for i in xrange(50000):\n",
    "                step = sess.run(global_step)\n",
    "\n",
    "                # Get a set of real images and labels to transform:\n",
    "                comb_images, comb_labels = data_fetcher.next_multi_image_train_classification(int(BATCH_SIZE*0.5))\n",
    "\n",
    "                # We have to update the discriminator, classifier, and generator.\n",
    "\n",
    "                \n",
    "                fd = {images_input : comb_images,\n",
    "                      labels       : comb_labels}\n",
    "                \n",
    "                _, summary = sess.run([optimizer, merged_summary],feed_dict = fd)\n",
    "\n",
    "                train_writer.add_summary(summary, step)\n",
    "\n",
    "\n",
    "                if step != 0 and step % 500 == 0:\n",
    "                    saver.save(\n",
    "                        sess,\n",
    "                        LOGDIR+\"/checkpoints/save\",\n",
    "                        global_step=step)\n",
    "\n",
    "\n",
    "                # train_writer.add_summary(summary, i)\n",
    "                # sys.stdout.write('Training in progress @ step %d\\n' % (step))\n",
    "                if i % 150 == 0:\n",
    "                    print 'Training in progress @ global_step %d,' % (step)\n"
   ]
  },
  {
   "cell_type": "markdown",
   "metadata": {
    "collapsed": true
   },
   "source": [
    "Let's take a look at some of the output of the network to see the results:"
   ]
  },
  {
   "cell_type": "code",
   "execution_count": null,
   "metadata": {},
   "outputs": [],
   "source": [
    "if not TRAINING:\n",
    "    with tf.device(default_device):\n",
    "        with g.as_default():\n",
    "            sess = tf.InteractiveSession()\n",
    "            latest_checkpoint = tf.train.latest_checkpoint(LOGDIR+\"/checkpoints/\")\n",
    "            print \"Restoring model from {}\".format(latest_checkpoint)\n",
    "            saver = tf.train.Saver()\n",
    "            saver.restore(sess, latest_checkpoint)\n",
    "\n",
    "            data_fetcher = mnist_helper()\n",
    "\n",
    "            # For this, we want to be able to compare original to transformed images.  \n",
    "            pre_transformed_images, pre_transformed_labels = data_fetcher.next_multi_image_train(int(BATCH_SIZE*0.5))\n",
    "\n",
    "\n",
    "            # No need to add noise to the images, so pass in zeros for noise.\n",
    "            real_noise_addition = numpy.zeros(shape=(int(BATCH_SIZE*0.5),32,32,1))\n",
    "            trans_noise_addition = numpy.zeros(shape=(int(BATCH_SIZE*0.5),32,32,1))\n",
    "\n",
    "\n",
    "            fd = {real_images_input : pre_transformed_images,\n",
    "                  real_labels       : pre_transformed_labels,\n",
    "                  pre_trans_images  : pre_transformed_images,\n",
    "                  real_noise        : real_noise_addition,\n",
    "                  trans_noise       : trans_noise_addition}\n",
    "\n",
    "\n",
    "            [generated_images, real_class, trans_class] = sess.run(\n",
    "                    [transformed_images, \n",
    "                     real_image_classification, \n",
    "                     trans_image_classification], \n",
    "                    feed_dict = fd)\n"
   ]
  },
  {
   "cell_type": "markdown",
   "metadata": {
    "collapsed": true
   },
   "source": [
    "Let's take a look at these images.  We will draw the original on the left and the transformed image on the right, as well as the labels for both "
   ]
  },
  {
   "cell_type": "code",
   "execution_count": null,
   "metadata": {},
   "outputs": [],
   "source": [
    "for i in xrange(len(generated_images)):\n",
    "    original = pre_transformed_images[i].reshape((32,32))\n",
    "    new_img = generated_images[i].reshape((32,32))\n",
    "    f, (ax1, ax2) = plt.subplots(1, 2, sharey=True, figsize=(20, 10))\n",
    "    ax1.imshow(original, cmap=\"Greys\", interpolation=\"none\")\n",
    "    ax2.imshow(new_img, cmap=\"Greys\", interpolation=\"none\")\n",
    "    plt.show()\n",
    "    \n",
    "    real_label = numpy.argmax(pre_transformed_labels[i])\n",
    "    real_prob = real_class[i][real_label]\n",
    "    selected_label = numpy.argmax(real_class[i])\n",
    "    print \"Original label is {}, selected label is {}, classification probability as {} is {}.\".format(\n",
    "        real_label, selected_label, real_label, real_prob )\n",
    "    \n",
    "    break\n"
   ]
  },
  {
   "cell_type": "code",
   "execution_count": null,
   "metadata": {},
   "outputs": [],
   "source": []
  }
 ],
 "metadata": {
  "kernelspec": {
   "display_name": "Python 2",
   "language": "python",
   "name": "python2"
  },
  "language_info": {
   "codemirror_mode": {
    "name": "ipython",
    "version": 2
   },
   "file_extension": ".py",
   "mimetype": "text/x-python",
   "name": "python",
   "nbconvert_exporter": "python",
   "pygments_lexer": "ipython2",
   "version": "2.7.12"
  }
 },
 "nbformat": 4,
 "nbformat_minor": 2
}
